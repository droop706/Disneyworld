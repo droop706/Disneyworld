{
 "cells": [
  {
   "cell_type": "code",
   "id": "initial_id",
   "metadata": {
    "collapsed": true,
    "ExecuteTime": {
     "end_time": "2025-03-29T19:16:16.233996Z",
     "start_time": "2025-03-29T19:16:15.365874Z"
    }
   },
   "source": [
    "import matplotlib.pyplot as plt\n",
    "import numpy as np\n",
    "import calendar\n",
    "import ipywidgets as widgets\n",
    "from IPython.display import display\n",
    "import requests\n",
    "\n",
    "# Fetch weather data\n",
    "def get_weather_forecast():\n",
    "    url = 'https://api.open-meteo.com/v1/forecast'\n",
    "    parameters = {\n",
    "        'latitude': 28.4237,\n",
    "        'longitude': -81.5812,\n",
    "        'daily': ('precipitation_sum,'\n",
    "                  'temperature_2m_max,'\n",
    "                  'temperature_2m_min,'\n",
    "                  'sunshine_duration'),\n",
    "        'timezone': 'America/New_York',\n",
    "        'forecast_days': 16\n",
    "    }\n",
    "    response = requests.get(url, params=parameters)\n",
    "    if response.status_code == 200:\n",
    "        return response.json()\n",
    "    else:\n",
    "        print(\"Error fetching weather forecast\")\n",
    "        return None\n",
    "\n",
    "# Calculate intensity score based on weather features\n",
    "def calculate_intensity(day_data):\n",
    "    # Normalize each feature to a scale of 0-1\n",
    "    temp_max = day_data['temperature_2m_max'] / 50  # Assuming max temperature is 50°C\n",
    "    sunshine = day_data['sunshine_duration'] / 1440  # Max sunshine duration (minutes/day)\n",
    "    precipitation = 1 - (day_data['precipitation_sum'] / 50)  # Assuming max precipitation is 50mm\n",
    "\n",
    "    # Weighted scoring (adjust weights as needed)\n",
    "    return (temp_max * 0.4) + (sunshine * 0.5) + (precipitation * 0.1)\n",
    "\n",
    "# Weather forecast data\n",
    "def generate_monthly_data(year, month, weather_data):\n",
    "    num_days = calendar.monthrange(year, month)[1]\n",
    "    intensity_values = np.zeros(num_days)\n",
    "\n",
    "    for day_idx in range(1, num_days + 1):\n",
    "        try:\n",
    "            day_data = {\n",
    "                'temperature_2m_max': weather_data['temperature_2m_max'][day_idx - 1],\n",
    "                'sunshine_duration': weather_data['sunshine_duration'][day_idx - 1],\n",
    "                'precipitation_sum': weather_data['precipitation_sum'][day_idx - 1]\n",
    "            }\n",
    "            intensity_values[day_idx - 1] = calculate_intensity(day_data)\n",
    "        except IndexError:\n",
    "            # Handle missing data for certain days\n",
    "            intensity_values[day_idx - 1] = 0\n",
    "    return intensity_values\n",
    "\n",
    "# Visualize heatmap\n",
    "def create_calendar_heatmap(year, month, data, cmap='plasma'):\n",
    "    num_days = calendar.monthrange(year, month)[1]\n",
    "    weeks, days = calendar.monthcalendar(year, month), 7\n",
    "    heatmap_data = np.zeros((len(weeks), days))\n",
    "\n",
    "    for week_idx, week in enumerate(weeks):\n",
    "        for day_idx, day in enumerate(week):\n",
    "            if day != 0:  # Ignore zeros as they denote days from adjacent months\n",
    "                heatmap_data[week_idx, day_idx] = data[day - 1]\n",
    "\n",
    "    fig, ax = plt.subplots()\n",
    "\n",
    "    im = ax.imshow(heatmap_data, cmap=cmap)\n",
    "\n",
    "    ax.set_xticks(np.arange(days))\n",
    "    ax.set_yticks(np.arange(len(weeks)))\n",
    "    ax.set_xticklabels(['Mon', 'Tue', 'Wed', 'Thu', 'Fri', 'Sat', 'Sun'])\n",
    "    ax.set_yticklabels([f'Week {i+1}' for i in range(len(weeks))])\n",
    "\n",
    "    plt.setp(ax.get_xticklabels(), rotation=45, ha=\"right\", rotation_mode=\"anchor\")\n",
    "\n",
    "    ax.set_title(f\"Heatmap of {calendar.month_name[month]} {year}\")\n",
    "    fig.tight_layout()\n",
    "\n",
    "    cbar = plt.colorbar(im)\n",
    "    cbar.set_label('Intensity')\n",
    "\n",
    "    plt.show()\n",
    "\n",
    "# Update heatmap dynamically based on year, month, and weather data\n",
    "def update_heatmap(year, month):\n",
    "    weather_forecast_data = get_weather_forecast()\n",
    "    if weather_forecast_data:\n",
    "        weather_data = weather_forecast_data['daily']\n",
    "        data = generate_monthly_data(year, month, weather_data)\n",
    "        create_calendar_heatmap(year, month, data)\n",
    "\n",
    "# Create interactive widgets for year and month\n",
    "year_widget = widgets.IntSlider(value=2023, min=2000, max=2100, description='Year:')\n",
    "month_widget = widgets.Dropdown(options=list(range(1, 13)), value=10, description='Month:', format={'type': 'integer'})\n",
    "\n",
    "# Use the widgets to trigger updates\n",
    "widgets.interactive(update_heatmap, year=year_widget, month=month_widget)"
   ],
   "outputs": [
    {
     "data": {
      "text/plain": [
       "interactive(children=(IntSlider(value=2023, description='Year:', max=2100, min=2000), Dropdown(description='Mo…"
      ],
      "application/vnd.jupyter.widget-view+json": {
       "version_major": 2,
       "version_minor": 0,
       "model_id": "a03f5c5c000a4595bfba50ea58db4604"
      }
     },
     "execution_count": 5,
     "metadata": {},
     "output_type": "execute_result"
    }
   ],
   "execution_count": 5
  },
  {
   "metadata": {},
   "cell_type": "code",
   "outputs": [],
   "execution_count": null,
   "source": "",
   "id": "87ccfcb4674555da"
  }
 ],
 "metadata": {
  "kernelspec": {
   "display_name": "Python (tensorflow_env)",
   "language": "python",
   "name": "tensorflow_env"
  },
  "language_info": {
   "codemirror_mode": {
    "name": "ipython",
    "version": 2
   },
   "file_extension": ".py",
   "mimetype": "text/x-python",
   "name": "python",
   "nbconvert_exporter": "python",
   "pygments_lexer": "ipython2",
   "version": "2.7.6"
  }
 },
 "nbformat": 4,
 "nbformat_minor": 5
}
